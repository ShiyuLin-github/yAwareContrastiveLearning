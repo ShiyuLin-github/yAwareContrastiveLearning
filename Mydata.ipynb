{
 "cells": [
  {
   "cell_type": "code",
   "execution_count": 12,
   "id": "2c6b2eb6",
   "metadata": {},
   "outputs": [],
   "source": [
    "import os\n",
    "import torch\n",
    "from torchvision import transforms\n",
    "from torch.utils.data import Dataset, DataLoader\n",
    "import nibabel as nib\n",
    "import numpy as np\n",
    "import pandas as pd"
   ]
  },
  {
   "cell_type": "code",
   "execution_count": 13,
   "outputs": [],
   "source": [
    "select_section = [30, 50, 70, 90, 110, 140] #range from 0 to 155, 从中选六张截面"
   ],
   "metadata": {
    "collapsed": false
   }
  },
  {
   "cell_type": "code",
   "execution_count": 14,
   "outputs": [],
   "source": [
    "My_transform = transforms.Compose([\n",
    "    transforms.Lambda(lambda x: x.permute(0, 3, 1, 2)), # 将维度重排为 [C, D, H, W]\n",
    "    #transforms.ToTensor(), # 将numpy数组转换为PyTorch张量\n",
    "    transforms.Normalize(mean=[0], std=[1]), # 归一化\n",
    "])\n"
   ],
   "metadata": {
    "collapsed": false
   }
  },
  {
   "cell_type": "markdown",
   "source": [],
   "metadata": {
    "collapsed": false
   }
  },
  {
   "cell_type": "code",
   "execution_count": 0,
   "id": "87918a70",
   "metadata": {},
   "outputs": [],
   "source": [
    "class MyDataset(Dataset):\n",
    "    def __init__(self, root_dir, csv_dir, transform = None):\n",
    "        self.root_dir = root_dir\n",
    "        self.samples = os.listdir(root_dir)\n",
    "        self.csv_file = pd.read_csv(csv_dir)\n",
    "        self.transform = transform\n",
    "        \n",
    "    def __len__(self):\n",
    "        return len(self.samples)\n",
    "    \n",
    "    def __getitem__(self, idx):\n",
    "        sample_path = os.path.join(self.root_dir, self.samples[idx])\n",
    "        \n",
    "        # Load each MRI sequence from the nii files,-6是除去文件夹名称里的_nifti\n",
    "        t1 = nib.load(os.path.join(sample_path, self.samples[idx][:-6] + '_T1.nii.gz')).get_fdata()\n",
    "        t1 = t1[:,:,select_section]\n",
    "        t1c = nib.load(os.path.join(sample_path, self.samples[idx][:-6] + '_T1c.nii.gz')).get_fdata()\n",
    "        t1c = t1c[:,:,select_section]\n",
    "        t2 = nib.load(os.path.join(sample_path, self.samples[idx][:-6] + '_T2.nii.gz')).get_fdata()\n",
    "        t2 = t2[:,:,select_section]\n",
    "        flair = nib.load(os.path.join(sample_path, self.samples[idx][:-6] + '_FLAIR.nii.gz')).get_fdata()\n",
    "        flair = flair[:,:,select_section]\n",
    "        asl = nib.load(os.path.join(sample_path, self.samples[idx][:-6] + '_ASL.nii.gz')).get_fdata()\n",
    "        asl = asl[:,:,select_section]\n",
    "\n",
    "        # Combine the four MRI sequences into a single input tensor\n",
    "        input_tensor = torch.Tensor(np.stack([t1, t1c, t2, flair, asl], axis=0))\n",
    "        #input_tensor = input_tensor.permute(0,3,1,2) #将维度重排为 [C, D, H, W]，有了transform就不需要在这里重排了\n",
    "        if self.transform:\n",
    "            input_tensor = self.transform(input_tensor)\n",
    "        \n",
    "        #从csv文件中读取label\n",
    "        # 原ID比csv文件中的ID多了个0，比如UCSF-PDGM-0004，csv中是UCSF-PDGM-004。所以要修改一下\n",
    "        id = self.samples[idx][:-6]\n",
    "        id_fit = id[0:-4] + id[-3:]\n",
    "        label = self.csv_file.loc[self.csv_file['ID'] == id_fit, 'WHO CNS Grade'].values[0]\n",
    "        label = label - 2 #从[2,3,4]转为[0,1,2]\n",
    "        #PyTorch会自动把整数型的label转为one-hot型，用于计算CE loss这里需要确保label是从0开始的,from深入浅出pytorch\n",
    "        \n",
    "        # Return the input tensor and any additional labels or targets\n",
    "        return input_tensor, label  # label是你的样本的标签，需要自己定义\n"
   ]
  },
  {
   "cell_type": "code",
   "execution_count": 15,
   "outputs": [],
   "source": [
    "#随机将数据集按比例分配为训练集和测试集\n",
    "custom_dataset = MyDataset(root_dir='UCSF-PDGM-v3',csv_dir='data/UCSF-PDGM-metadata_v2.csv', transform = My_transform)\n",
    "train_size = int(len(custom_dataset) * 0.7)\n",
    "test_size = len(custom_dataset) - train_size\n",
    "train_dataset, test_dataset = torch.utils.data.random_split(custom_dataset, [train_size, test_size])\n",
    "\n",
    "print(len(train_dataset))\n",
    "print(len(test_dataset))"
   ],
   "metadata": {
    "collapsed": false
   }
  },
  {
   "cell_type": "code",
   "execution_count": 16,
   "id": "e04399cc",
   "metadata": {},
   "outputs": [
    {
     "name": "stdout",
     "output_type": "stream",
     "text": [
      "UCSF-PDGM-352\n",
      "UCSF-PDGM-004\n",
      "UCSF-PDGM-007\n",
      "UCSF-PDGM-008\n",
      "torch.Size([4, 240, 240, 6])\n"
     ]
    }
   ],
   "source": [
    "if __name__ == '__main__':\n",
    "    # Create a dataloader for the dataset\n",
    "    train_dataset = MyDataset(root_dir='data/MRI/Train',csv_dir='data/UCSF-PDGM-metadata_v2.csv', transform = My_transform)\n",
    "    test_dataset = MyDataset(root_dir='data/MRI/Test',csv_dir='data/UCSF-PDGM-metadata_v2.csv', transform = My_transform)\n",
    "    train_loader = DataLoader(train_dataset, batch_size=4, shuffle=True)\n",
    "    test_loader = DataLoader(test_dataset, batch_size=4, shuffle=True)\n",
    "\n",
    "    samples, labels = next(iter(train_loader))\n",
    "    print(samples.shape)"
   ]
  },
  {
   "cell_type": "code",
   "execution_count": 16,
   "id": "de822ffa",
   "metadata": {},
   "outputs": [],
   "source": []
  }
 ],
 "metadata": {
  "kernelspec": {
   "display_name": "Python 3 (ipykernel)",
   "language": "python",
   "name": "python3"
  },
  "language_info": {
   "codemirror_mode": {
    "name": "ipython",
    "version": 3
   },
   "file_extension": ".py",
   "mimetype": "text/x-python",
   "name": "python",
   "nbconvert_exporter": "python",
   "pygments_lexer": "ipython3",
   "version": "3.9.16"
  }
 },
 "nbformat": 4,
 "nbformat_minor": 5
}
